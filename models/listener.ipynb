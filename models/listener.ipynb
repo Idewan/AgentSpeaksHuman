{
 "cells": [
  {
   "cell_type": "code",
   "execution_count": null,
   "metadata": {},
   "outputs": [],
   "source": [
    "import tensorflow as tf\n",
    "import os\n",
    "import collections\n",
    "import time\n",
    "import random\n",
    "import re\n",
    "import json\n",
    "import numpy as np\n",
    "import matplotlib.pyplot as plt\n",
    "import matplotlib.image as mpimg\n",
    "import pickle\n",
    "import math\n",
    "\n",
    "from sklearn.model_selection import train_test_split\n",
    "from sklearn.utils import shuffle\n",
    "from glob import glob\n",
    "from PIL import Image\n",
    "from tqdm import tqdm\n",
    "\n",
    "#Custom Classes\n",
    "from prep import Preparation\n",
    "from gru_decoder import GRU_Decoder\n",
    "from gru_encoder import GRU_Encoder\n",
    "from cnn_encoder import CNN_Encoder"
   ]
  },
  {
   "cell_type": "code",
   "execution_count": null,
   "metadata": {},
   "outputs": [],
   "source": [
    "prep = Preparation()"
   ]
  },
  {
   "cell_type": "code",
   "execution_count": null,
   "metadata": {},
   "outputs": [],
   "source": [
    "image_model = tf.keras.applications.ResNet50(include_top=False, weights='imagenet')\n",
    "image_input = image_model.input\n",
    "hidden_layer = image_model.layers[-1].output\n",
    "image_features_extract_model = tf.keras.Model(image_input, hidden_layer)"
   ]
  },
  {
   "cell_type": "code",
   "execution_count": null,
   "metadata": {},
   "outputs": [],
   "source": [
    "with open(\"../dataset/best_captions.json\", \"r\") as jf:\n",
    "    data = json.loads(jf.read())\n",
    "\n",
    "target_data = data['target_paths']\n",
    "distractor_data = data['distractor_paths']\n",
    "caption_data = data['best_captions']"
   ]
  },
  {
   "cell_type": "code",
   "execution_count": null,
   "metadata": {},
   "outputs": [],
   "source": [
    "edited_caption_data = []\n",
    "for i in range(len(caption_data)):\n",
    "    edited_caption_data.append(f'<start> {caption_data[i]} <end>')"
   ]
  },
  {
   "cell_type": "code",
   "execution_count": null,
   "metadata": {},
   "outputs": [],
   "source": [
    "#Split into train, val, and test set.\n",
    "val_slice_index = int(len(target_data)*0.8)\n",
    "test_slice_index = int(len(target_data)*0.9)\n",
    "\n",
    "targ_name_train, targ_name_val, targ_name_test = target_data[:val_slice_index], target_data[val_slice_index:test_slice_index], target_data[test_slice_index:]\n",
    "\n",
    "dis_name_train, dis_name_val, dis_name_test = distractor_data[:val_slice_index], distractor_data[val_slice_index:test_slice_index], distractor_data[test_slice_index:]\n",
    "\n",
    "captions_train, captions_val, captions_test = edited_caption_data[:val_slice_index], edited_caption_data[val_slice_index:test_slice_index], edited_caption_data[test_slice_index:]"
   ]
  },
  {
   "cell_type": "code",
   "execution_count": null,
   "metadata": {
    "tags": []
   },
   "outputs": [],
   "source": [
    "img_A = mpimg.imread(f\"../dataset/prep_data/{targ_name_test[0]}.jpg\")\n",
    "img_B = mpimg.imread(f\"../dataset/prep_data/{dis_name_test[0]}.jpg\")\n",
    "print(captions_test[0])\n",
    "# display images\n",
    "fig, ax = plt.subplots(1,2)\n",
    "ax[0].title.set_text(\"Target\")\n",
    "ax[0].imshow(img_A)\n",
    "ax[1].title.set_text(\"Distractor\")\n",
    "ax[1].imshow(img_B)"
   ]
  },
  {
   "cell_type": "code",
   "execution_count": null,
   "metadata": {},
   "outputs": [],
   "source": [
    "#Tokenize the captions\n",
    "top_v = 45\n",
    "\n",
    "tokenizer = tf.keras.preprocessing.text.Tokenizer(num_words=top_v,\n",
    "                                                  oov_token=\"<unk>\",\n",
    "                                                  filters='!\"#$%&()*+.,-/:;=?@[\\]^_`{|}~ ')\n",
    "tokenizer.fit_on_texts(captions_train)\n",
    "tokenizer.word_index['<pad>'] = 0\n",
    "tokenizer.index_word[0] = '<pad>'\n",
    "\n",
    "# Create the tokenized vectors\n",
    "train_seqs = tokenizer.texts_to_sequences(captions_train)\n",
    "\n",
    "cap_vector = tf.keras.preprocessing.sequence.pad_sequences(train_seqs, padding='post')"
   ]
  },
  {
   "cell_type": "code",
   "execution_count": null,
   "metadata": {},
   "outputs": [],
   "source": [
    "BATCH_SIZE = 32\n",
    "BUFFER_SIZE = 1000\n",
    "embedding_dim = 512\n",
    "units = 512\n",
    "vocab_size = top_v + 1\n",
    "num_steps = len(targ_name_train) // BATCH_SIZE "
   ]
  },
  {
   "cell_type": "code",
   "execution_count": null,
   "metadata": {},
   "outputs": [],
   "source": [
    "dataset = tf.data.Dataset.from_tensor_slices((targ_name_train, dis_name_train, cap_vector))\n",
    "\n",
    "# Use map to load the numpy files in parallel\n",
    "dataset = dataset.map(lambda item1, item2, item3: tf.numpy_function(\n",
    "          prep.map_func_oracle, [item1, item2, item3], [tf.float32, tf.float32, tf.int32]))\n",
    "\n",
    "# Shuffle and batch\n",
    "dataset = dataset.shuffle(BUFFER_SIZE).batch(BATCH_SIZE)"
   ]
  },
  {
   "cell_type": "code",
   "execution_count": null,
   "metadata": {},
   "outputs": [],
   "source": [
    "gru_encoder = GRU_Encoder(embedding_dim, units, vocab_size)\n",
    "encoder = CNN_Encoder(embedding_dim)\n",
    "\n",
    "optimizer = tf.keras.optimizers.Adam()\n",
    "loss_object = tf.keras.losses.CategoricalCrossentropy()\n",
    "\n",
    "loss_plot = []"
   ]
  },
  {
   "cell_type": "code",
   "execution_count": null,
   "metadata": {},
   "outputs": [],
   "source": [
    "checkpoint_path = \"./checkpointslistener/train\"\n",
    "ckpt = tf.train.Checkpoint(encoder=encoder,\n",
    "                           gru_encoder=gru_encoder,\n",
    "                           optimizer = optimizer)\n",
    "ckpt_manager = tf.train.CheckpointManager(ckpt, checkpoint_path, max_to_keep=30)"
   ]
  },
  {
   "cell_type": "code",
   "execution_count": null,
   "metadata": {},
   "outputs": [],
   "source": [
    "# @tf.function\n",
    "def train_step(m, targ, dist):\n",
    "    loss = 0\n",
    "\n",
    "    # initializing the hidden state for each batch\n",
    "    # because the captions are not related from image to image\n",
    "    hidden = gru_encoder.reset_state(batch_size=targ.shape[0])\n",
    "\n",
    "    with tf.GradientTape() as tape:\n",
    "        #could be a serious problem -- most likely! Exciting\n",
    "        features_t = encoder(targ)\n",
    "        features_d = encoder(dist)\n",
    "\n",
    "        v = gru_encoder(m, hidden)\n",
    "        \n",
    "        with tape.stop_recording():\n",
    "            rand_n = random.random()\n",
    "\n",
    "            if rand_n > 0.5:\n",
    "                left = features_t\n",
    "                right = features_d\n",
    "                y_t = tf.convert_to_tensor([[1,0]]*targ.shape[0],dtype=tf.float32)\n",
    "            else:\n",
    "                left = features_d\n",
    "                right = features_t\n",
    "                y_t = tf.convert_to_tensor([[0,1]]*targ.shape[0],dtype=tf.float32)\n",
    "    \n",
    "        x = tf.norm(tf.keras.layers.dot([left, v],axes=2,normalize=True),axis=(1,2))\n",
    "        y = tf.norm(tf.keras.layers.dot([right, v],axes=2,normalize=True),axis=(1,2))\n",
    "        x = tf.reshape(x, (x.shape[0],1))\n",
    "        y = tf.reshape(y, (y.shape[0],1))\n",
    "        z = tf.concat([x,y],axis=1)\n",
    "        y_p = tf.nn.softmax(z)\n",
    "        loss = loss_object(y_t, y_p)\n",
    "\n",
    "    trainable_variables = encoder.trainable_variables + gru_encoder.trainable_variables\n",
    "    \n",
    "    gradients = tape.gradient(loss, trainable_variables)\n",
    "    optimizer.apply_gradients(zip(gradients, trainable_variables))\n",
    "\n",
    "    return loss"
   ]
  },
  {
   "cell_type": "code",
   "execution_count": null,
   "metadata": {
    "tags": []
   },
   "outputs": [],
   "source": [
    "EPOCHS = 20\n",
    "\n",
    "for epoch in range(0, EPOCHS):\n",
    "    start = time.time()\n",
    "    total_loss = 0\n",
    "\n",
    "    for (batch, (targ_tensor, dis_tensor, target)) in enumerate(dataset):\n",
    "        target = tf.one_hot(target, vocab_size)\n",
    "        loss = train_step(target, targ_tensor, dis_tensor)\n",
    "        total_loss += loss\n",
    "        \n",
    "        if batch % 100 == 0:\n",
    "          print ('Epoch {} Batch {} Loss {:.4f}'.format(\n",
    "            epoch + 1, batch, loss.numpy()))\n",
    "              \n",
    "    # storing the epoch end loss value to plot later\n",
    "    loss_plot.append(total_loss / num_steps)\n",
    "\n",
    "    if epoch % 5 == 0:\n",
    "      ckpt_manager.save()\n",
    "      \n",
    "    print ('Epoch {} Loss {:.6f}'.format(epoch + 1,\n",
    "                                         total_loss/num_steps))\n",
    "    print ('Time taken for 1 epoch {} sec\\n'.format(time.time() - start))"
   ]
  },
  {
   "cell_type": "code",
   "execution_count": null,
   "metadata": {},
   "outputs": [],
   "source": [
    "plt.plot(loss_plot)\n",
    "plt.xlabel('Epochs')\n",
    "plt.ylabel('Loss')\n",
    "plt.title('Loss Plot Speaker')\n",
    "plt.show()"
   ]
  },
  {
   "cell_type": "code",
   "execution_count": null,
   "metadata": {},
   "outputs": [],
   "source": [
    "with open(\"../dataset/captions.json\", 'r') as jf:\n",
    "    data_all = json.loads(jf.read())\n",
    "data_all.pop('lstm_labels')\n",
    "img_paths = list(data_all.keys())"
   ]
  },
  {
   "cell_type": "code",
   "execution_count": null,
   "metadata": {
    "tags": []
   },
   "outputs": [],
   "source": [
    "def map_func_test(img_name, img_name_2):\n",
    "  img_tensor = np.load('../dataset/prep_data/'+img_name.decode('utf-8')+'.jpg.npy')\n",
    "  img_tensor_2 = np.load('../dataset/prep_data/'+img_name_2.decode('utf-8')+'.jpg.npy')\n",
    "  uno = int(img_name)\n",
    "\n",
    "  return img_tensor, img_tensor_2, uno\n",
    "\n",
    "def map_func_disc(img_name, img_name_2, cap):\n",
    "  img_tensor = np.load('../dataset/prep_data/'+img_name.decode('utf-8')+'.jpg.npy')\n",
    "  img_tensor_2 = np.load('../dataset/prep_data/'+img_name_2.decode('utf-8')+'.jpg.npy')\n",
    "\n",
    "  return img_tensor, img_tensor_2, cap"
   ]
  },
  {
   "cell_type": "code",
   "execution_count": null,
   "metadata": {},
   "outputs": [],
   "source": [
    "with open(\"../dataset/best_captions.json\", \"r\") as jfec:\n",
    "    data = json.loads(jfec.read())\n",
    "\n",
    "target_data = data['target_paths']\n",
    "distractor_data = data['distractor_paths']\n",
    "\n",
    "val_slice_index = int(len(target_data)*0.8)\n",
    "test_slice_index = int(len(target_data)*0.9)\n",
    "\n",
    "targ_test = target_data[test_slice_index:]\n",
    "\n",
    "dis_test = distractor_data[test_slice_index:]\n",
    "\n",
    "testset = tf.data.Dataset.from_tensor_slices((targ_test, dis_test))\n",
    "testset = testset.map(lambda item1, item2: tf.numpy_function(\n",
    "          map_func_test, [item1, item2], [tf.float32, tf.float32, tf.int64]))\n",
    "\n",
    "testset = testset.shuffle(BUFFER_SIZE).batch(1)\n",
    "\n",
    "with open(\"../dataset/easy_captions.json\", \"r\") as jfec:\n",
    "    easy_data = json.loads(jfec.read())\n",
    "\n",
    "target_easy_data = easy_data['target_paths']\n",
    "distractor_easy_data = easy_data['distractor_paths']\n",
    "\n",
    "val_slice_index = int(len(target_easy_data)*0.8)\n",
    "test_slice_index = int(len(target_easy_data)*0.9)\n",
    "\n",
    "targ_easy_test = target_easy_data[test_slice_index:]\n",
    "\n",
    "dis_easy_test = distractor_easy_data[test_slice_index:]\n",
    "\n",
    "testset_easy = tf.data.Dataset.from_tensor_slices((targ_easy_test, dis_easy_test))\n",
    "testset_easy = testset_easy.map(lambda item1, item2: tf.numpy_function(\n",
    "          map_func_test, [item1, item2], [tf.float32, tf.float32, tf.int64]))\n",
    "\n",
    "testset_easy = testset_easy.shuffle(BUFFER_SIZE).batch(1)"
   ]
  },
  {
   "cell_type": "code",
   "execution_count": null,
   "metadata": {},
   "outputs": [],
   "source": [
    "def check_understanding_random(data):\n",
    "    total_right = 0\n",
    "    total_wrong = 0\n",
    "\n",
    "    for (batch, (targ_tensor, dis_tensor, targ_name)) in enumerate(data):\n",
    "        hidden_l = gru_encoder.reset_state(batch_size=targ_tensor.shape[0])\n",
    "\n",
    "        #Find a random caption associated with the target\n",
    "        targ_name = targ_name.numpy()[0]\n",
    "        captions = data_all[str(targ_name)]\n",
    "        seed = random.randint(0, len(captions)-1)\n",
    "        caption = f\"<start> {captions[seed]} <end>\"\n",
    "        m = tokenizer.texts_to_sequences([caption])\n",
    "        m = tf.one_hot(m, vocab_size)\n",
    "\n",
    "        features_t = encoder(targ_tensor)\n",
    "        features_d = encoder(dis_tensor)\n",
    "\n",
    "        left = features_t\n",
    "        right = features_d\n",
    "\n",
    "        v = gru_encoder(m, hidden_l)\n",
    "\n",
    "        x = tf.norm(tf.keras.layers.dot([left, v],axes=2,normalize=True),axis=(1,2))\n",
    "        y = tf.norm(tf.keras.layers.dot([right, v],axes=2,normalize=True),axis=(1,2))\n",
    "\n",
    "        mask = tf.math.greater(x, y)\n",
    "        total_right += np.sum(mask.numpy())\n",
    "        total_wrong += np.sum(mask.numpy()==False)\n",
    "\n",
    "    total = total_right + total_wrong\n",
    "\n",
    "    acc = total_right / total\n",
    "\n",
    "    return acc, total_right, total_wrong"
   ]
  },
  {
   "cell_type": "code",
   "execution_count": null,
   "metadata": {},
   "outputs": [],
   "source": [
    "def check_understanding_disc(data):\n",
    "    total_right = 0\n",
    "    total_wrong = 0\n",
    "\n",
    "    for (batch, (targ_tensor, dis_tensor, cap)) in enumerate(data):\n",
    "        hidden_l = gru_encoder.reset_state(batch_size=targ_tensor.shape[0])\n",
    "\n",
    "        m = tf.one_hot(cap, vocab_size)\n",
    "        features_t = encoder(targ_tensor)\n",
    "        features_d = encoder(dis_tensor)\n",
    "\n",
    "        left = features_t\n",
    "        right = features_d\n",
    "\n",
    "        v = gru_encoder(m, hidden_l)\n",
    "\n",
    "        x = tf.norm(tf.keras.layers.dot([left, v],axes=2,normalize=True),axis=(1,2))\n",
    "        y = tf.norm(tf.keras.layers.dot([right, v],axes=2,normalize=True),axis=(1,2))\n",
    "\n",
    "        mask = tf.math.greater(x, y)\n",
    "        total_right += np.sum(mask.numpy())\n",
    "        total_wrong += np.sum(mask.numpy()==False)\n",
    "\n",
    "    total = total_right + total_wrong\n",
    "\n",
    "    acc = total_right / total\n",
    "\n",
    "    return acc, total_right, total_wrong"
   ]
  },
  {
   "cell_type": "code",
   "execution_count": null,
   "metadata": {
    "tags": []
   },
   "outputs": [],
   "source": [
    "acc, t_r, t_w = check_understanding_random(testset)\n",
    "print(acc, t_r, t_w) "
   ]
  },
  {
   "cell_type": "code",
   "execution_count": null,
   "metadata": {
    "tags": []
   },
   "outputs": [],
   "source": [
    "acc, t_r, t_w = check_understanding_random(testset_easy)\n",
    "print(acc, t_r, t_w) "
   ]
  },
  {
   "cell_type": "code",
   "execution_count": null,
   "metadata": {},
   "outputs": [],
   "source": [
    "## BEST CAPT ##\n",
    "\n",
    "with open(\"../dataset/best_captions.json\", \"r\") as jfec:\n",
    "    data = json.loads(jfec.read())\n",
    "\n",
    "target_data = data['target_paths']\n",
    "distractor_data = data['distractor_paths']\n",
    "captions_data = data['best_captions']\n",
    "edited_captions_data = []\n",
    "\n",
    "for c in captions_data:\n",
    "    edited_captions_data.append(f'<start> {c} <end>')\n",
    "\n",
    "test_slice_index = int(len(target_data)*0.9)\n",
    "\n",
    "targ_test = target_data[test_slice_index:]\n",
    "dis_test = distractor_data[test_slice_index:]\n",
    "cap_test = edited_captions_data[test_slice_index:]\n",
    "\n",
    "train_seqs_2 = tokenizer.texts_to_sequences(cap_test)\n",
    "cap_vector = tf.keras.preprocessing.sequence.pad_sequences(train_seqs_2, padding='post')\n",
    "\n",
    "testset = tf.data.Dataset.from_tensor_slices((targ_test, dis_test, cap_vector))\n",
    "testset = testset.map(lambda item1, item2, item3: tf.numpy_function(\n",
    "          map_func_disc, [item1, item2, item3], [tf.float32, tf.float32, tf.int32]))\n",
    "\n",
    "testset = testset.shuffle(BUFFER_SIZE).batch(1)"
   ]
  }
 ],
 "metadata": {
  "kernelspec": {
   "display_name": "Python 3",
   "language": "python",
   "name": "python3"
  },
  "language_info": {
   "codemirror_mode": {
    "name": "ipython",
    "version": 3
   },
   "file_extension": ".py",
   "mimetype": "text/x-python",
   "name": "python",
   "nbconvert_exporter": "python",
   "pygments_lexer": "ipython3",
   "version": "3.7.9"
  }
 },
 "nbformat": 4,
 "nbformat_minor": 2
}
