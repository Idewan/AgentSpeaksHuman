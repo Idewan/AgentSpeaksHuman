{
 "cells": [
  {
   "cell_type": "code",
   "execution_count": null,
   "metadata": {},
   "outputs": [],
   "source": [
    "import tensorflow as tf\n",
    "import os\n",
    "import collections\n",
    "import time\n",
    "import random\n",
    "import re\n",
    "import json\n",
    "import numpy as np\n",
    "import matplotlib.pyplot as plt\n",
    "import matplotlib.image as mpimg\n",
    "import pickle\n",
    "import math\n",
    "\n",
    "from sklearn.model_selection import train_test_split\n",
    "from sklearn.utils import shuffle\n",
    "from glob import glob\n",
    "from PIL import Image\n",
    "from tqdm import tqdm\n",
    "\n",
    "#Custom Classes\n",
    "from prep import Preparation\n",
    "from gru_decoder import GRU_Decoder\n",
    "from gru_encoder import GRU_Encoder\n",
    "from cnn_encoder import CNN_Encoder"
   ]
  },
  {
   "cell_type": "code",
   "execution_count": null,
   "metadata": {},
   "outputs": [],
   "source": [
    "prep = Preparation()\n"
   ]
  },
  {
   "cell_type": "code",
   "execution_count": null,
   "metadata": {},
   "outputs": [],
   "source": [
    "image_model = tf.keras.applications.ResNet50(include_top=False, weights='imagenet')\n",
    "image_input = image_model.input\n",
    "hidden_layer = image_model.layers[-1].output\n",
    "image_features_extract_model = tf.keras.Model(image_input, hidden_layer)"
   ]
  },
  {
   "cell_type": "code",
   "execution_count": null,
   "metadata": {},
   "outputs": [],
   "source": [
    "with open(\"../dataset/best_captions.json\", \"r\") as jf:\n",
    "    data = json.loads(jf.read())\n",
    "\n",
    "target_data = data['target_paths']\n",
    "distractor_data = data['distractor_paths']\n",
    "caption_data = data['best_captions'] "
   ]
  },
  {
   "cell_type": "code",
   "execution_count": null,
   "metadata": {},
   "outputs": [],
   "source": [
    "edited_caption_data = []\n",
    "for i in range(len(caption_data)):\n",
    "    edited_caption_data.append(f'<start> {caption_data[i]} <end>')"
   ]
  },
  {
   "cell_type": "code",
   "execution_count": null,
   "metadata": {},
   "outputs": [],
   "source": [
    "#Split into train, val, and test set.\n",
    "val_slice_index = int(len(target_data)*0.8)\n",
    "test_slice_index = int(len(target_data)*0.9)\n",
    "\n",
    "targ_name_train, targ_name_val, targ_name_test = target_data[:val_slice_index], target_data[val_slice_index:test_slice_index], target_data[test_slice_index:]\n",
    "\n",
    "dis_name_train, dis_name_val, dis_name_test = distractor_data[:val_slice_index], distractor_data[val_slice_index:test_slice_index], distractor_data[test_slice_index:]\n",
    "\n",
    "captions_train, captions_val, captions_test = edited_caption_data[:val_slice_index], edited_caption_data[val_slice_index:test_slice_index], edited_caption_data[test_slice_index:]\n"
   ]
  },
  {
   "cell_type": "code",
   "execution_count": null,
   "metadata": {
    "tags": []
   },
   "outputs": [],
   "source": [
    "img_A = mpimg.imread(f\"../dataset/prep_data/{targ_name_test[0]}.jpg\")\n",
    "img_B = mpimg.imread(f\"../dataset/prep_data/{dis_name_test[0]}.jpg\")\n",
    "print(captions_test[0])\n",
    "# display images\n",
    "fig, ax = plt.subplots(1,2)\n",
    "ax[0].title.set_text(\"Target\")\n",
    "ax[0].imshow(img_A)\n",
    "ax[1].title.set_text(\"Distractor\")\n",
    "ax[1].imshow(img_B)"
   ]
  },
  {
   "cell_type": "code",
   "execution_count": null,
   "metadata": {},
   "outputs": [],
   "source": [
    "#Tokenize the captions\n",
    "top_v = 45\n",
    "\n",
    "tokenizer = tf.keras.preprocessing.text.Tokenizer(num_words=top_v,\n",
    "                                                  oov_token=\"<unk>\",\n",
    "                                                  filters='!\"#$%&()*+.,-/:;=?@[\\]^_`{|}~ ')\n",
    "tokenizer.fit_on_texts(captions_train)\n",
    "tokenizer.word_index['<pad>'] = 0\n",
    "tokenizer.index_word[0] = '<pad>'\n",
    "\n",
    "# Create the tokenized vectors\n",
    "train_seqs = tokenizer.texts_to_sequences(captions_train)\n",
    "\n",
    "cap_vector = tf.keras.preprocessing.sequence.pad_sequences(train_seqs, padding='post')\n",
    "\n",
    "# Calculates the max_length, which is used to store the attention weights\n",
    "max_length = 5"
   ]
  },
  {
   "cell_type": "code",
   "execution_count": null,
   "metadata": {},
   "outputs": [],
   "source": [
    "BATCH_SIZE = 32\n",
    "BUFFER_SIZE = 1000\n",
    "embedding_dim = 1024\n",
    "units = 512\n",
    "vocab_size = top_v + 1\n",
    "num_steps = len(targ_name_train) // BATCH_SIZE\n",
    "features_shape = 2048\n",
    "attention_features_shape = 64"
   ]
  },
  {
   "cell_type": "code",
   "execution_count": null,
   "metadata": {},
   "outputs": [],
   "source": [
    "dataset = tf.data.Dataset.from_tensor_slices((targ_name_train, dis_name_train, cap_vector))\n",
    "\n",
    "# Use map to load the numpy files in parallel\n",
    "dataset = dataset.map(lambda item1, item2, item3: tf.numpy_function(\n",
    "          prep.map_func_oracle, [item1, item2, item3], [tf.float32, tf.float32, tf.int32]))\n",
    "\n",
    "# Shuffle and batch\n",
    "dataset = dataset.shuffle(BUFFER_SIZE).batch(BATCH_SIZE)"
   ]
  },
  {
   "cell_type": "code",
   "execution_count": null,
   "metadata": {},
   "outputs": [],
   "source": [
    "decoder = GRU_Decoder(embedding_dim, units, vocab_size)\n",
    "encoder = CNN_Encoder(embedding_dim)\n",
    "\n",
    "optimizer = tf.keras.optimizers.Adam()\n",
    "\n",
    "loss_plot = []"
   ]
  },
  {
   "cell_type": "code",
   "execution_count": null,
   "metadata": {},
   "outputs": [],
   "source": [
    "checkpoint_path = \"./checkpointsh2a/train\"\n",
    "ckpt = tf.train.Checkpoint(encoder=encoder,\n",
    "                           decoder=decoder,\n",
    "                           optimizer = optimizer)\n",
    "ckpt_manager = tf.train.CheckpointManager(ckpt, checkpoint_path, max_to_keep=30)"
   ]
  },
  {
   "cell_type": "code",
   "execution_count": null,
   "metadata": {},
   "outputs": [],
   "source": [
    "@tf.function\n",
    "def train_step(u, target):\n",
    "  loss = 0\n",
    "\n",
    "  # initializing the hidden state for each batch\n",
    "  # because the captions are not related from image to image\n",
    "  hidden = decoder.reset_state(batch_size=target.shape[0])\n",
    "\n",
    "  dec_input = tf.expand_dims([tokenizer.word_index['<start>']] * target.shape[0], 1)\n",
    "\n",
    "  with tf.GradientTape() as tape:\n",
    "      #could be a serious problem -- most likely! Exciting\n",
    "      features = encoder(u)\n",
    "  \n",
    "      for i in range(1, target.shape[1]):\n",
    "          # passing the features through the decoder\n",
    "          predictions, hidden, _ = decoder(dec_input, features, hidden)\n",
    "          \n",
    "          pred_probs = tf.nn.softmax(predictions)\n",
    "          with tape.stop_recording():\n",
    "            row_indices = tf.reshape(tf.range(target.shape[0]),(target.shape[0],1))\n",
    "            col_indices = tf.reshape(target[:,i], (target.shape[0],1))\n",
    "            full_indices = tf.concat([row_indices,col_indices],axis=1)\n",
    "          \n",
    "          log_probs = tf.math.log(pred_probs)\n",
    "          loss_ = tf.gather_nd(log_probs, full_indices)\n",
    "          \n",
    "          loss += -tf.reduce_mean(loss_)\n",
    "\n",
    "          dec_input = tf.expand_dims(target[:, i], 1)\n",
    "\n",
    "  total_loss = (loss / int(target.shape[1]))\n",
    "\n",
    "  trainable_variables = encoder.trainable_variables + decoder.trainable_variables\n",
    "  \n",
    "  gradients = tape.gradient(loss, trainable_variables)\n",
    "  optimizer.apply_gradients(zip(gradients, trainable_variables))\n",
    "\n",
    "  return loss, total_loss"
   ]
  },
  {
   "cell_type": "code",
   "execution_count": null,
   "metadata": {
    "tags": []
   },
   "outputs": [],
   "source": [
    "EPOCHS = 7\n",
    "\n",
    "for epoch in range(0, EPOCHS):\n",
    "    start = time.time()\n",
    "    total_loss = 0\n",
    "\n",
    "    for (batch, (targ_tensor, dis_tensor, target)) in enumerate(dataset):\n",
    "        u = tf.concat([targ_tensor, dis_tensor], -1)\n",
    "\n",
    "        batch_loss, t_loss = train_step(u, target)\n",
    "        total_loss += t_loss\n",
    "        \n",
    "        if batch % 100 == 0:\n",
    "            print ('Epoch {} Batch {} Loss {:.4f}'.format(\n",
    "              epoch + 1, batch, batch_loss.numpy() / int(target.shape[1])))\n",
    "              \n",
    "    # storing the epoch end loss value to plot later\n",
    "    loss_plot.append(total_loss / num_steps)\n",
    "\n",
    "    if epoch % 5 == 0:\n",
    "      ckpt_manager.save()\n",
    "\n",
    "    print ('Epoch {} Loss {:.6f}'.format(epoch + 1,\n",
    "                                         total_loss/num_steps))\n",
    "    print ('Time taken for 1 epoch {} sec\\n'.format(time.time() - start))"
   ]
  },
  {
   "cell_type": "code",
   "execution_count": null,
   "metadata": {},
   "outputs": [],
   "source": [
    "plt.plot(loss_plot)\n",
    "plt.xlabel('Epochs')\n",
    "plt.ylabel('Loss')\n",
    "plt.title('Speaker Loss Plot')\n",
    "plt.show()"
   ]
  },
  {
   "cell_type": "code",
   "execution_count": null,
   "metadata": {},
   "outputs": [],
   "source": [
    "def evaluate(targ, dis):\n",
    "    # attention_plot = np.zeros((max_length, attention_features_shape))\n",
    "\n",
    "    hidden = decoder.reset_state(batch_size=1)\n",
    "\n",
    "    temp_input = tf.expand_dims(prep.load_image(targ)[0], 0)\n",
    "    img_tensor_val = image_features_extract_model(temp_input)\n",
    "    targ_img_tensor_val = tf.reshape(img_tensor_val, (img_tensor_val.shape[0], -1, img_tensor_val.shape[3]))\n",
    "\n",
    "    temp_input = tf.expand_dims(prep.load_image(dis)[0], 0)\n",
    "    img_tensor_val = image_features_extract_model(temp_input)\n",
    "    dis_img_tensor_val = tf.reshape(img_tensor_val, (img_tensor_val.shape[0], -1, img_tensor_val.shape[3]))\n",
    "\n",
    "    u = tf.concat([targ_img_tensor_val, dis_img_tensor_val], -1)\n",
    "\n",
    "    features = encoder(u)\n",
    "\n",
    "    dec_input = tf.expand_dims([tokenizer.word_index['<start>']], 0)\n",
    "\n",
    "    result = []\n",
    "\n",
    "    for i in range(max_length):\n",
    "        predictions, hidden, attention_weights = decoder(dec_input, features, hidden)\n",
    "\n",
    "        # attention_plot[i] = tf.reshape(attention_weights, (-1, )).numpy()\n",
    "        predicted_id = tf.random.categorical(predictions, 1)[0][0].numpy()\n",
    "        result.append(tokenizer.index_word[predicted_id])\n",
    "\n",
    "        if tokenizer.index_word[predicted_id] == '<end>':\n",
    "            return result, 16\n",
    "\n",
    "        dec_input = tf.expand_dims([predicted_id], 0)\n",
    "\n",
    "    # attention_plot = attention_plot[:len(result), :]\n",
    "    return result, 5"
   ]
  },
  {
   "cell_type": "code",
   "execution_count": null,
   "metadata": {},
   "outputs": [],
   "source": [
    "import time\n",
    "def show_test(num):\n",
    "    result, attention_plot = evaluate(f\"../dataset/prep_data/{target_data[num]}.jpg\", f\"../dataset/prep_data/{distractor_data[num]}.jpg\")\n",
    "    print('Utterance:', ' '.join(result))\n",
    "    img_A = mpimg.imread(f\"../dataset/prep_data/{target_data[num]}.jpg\")\n",
    "    img_B = mpimg.imread(f\"../dataset/prep_data/{distractor_data[num]}.jpg\")\n",
    "\n",
    "    rand_n = random.uniform(0,1)\n",
    "\n",
    "    if rand_n < 0.5:\n",
    "        t = 0\n",
    "        d = 1\n",
    "    else:\n",
    "        t = 1\n",
    "        d = 0\n",
    "    fig, ax = plt.subplots(1,2)\n",
    "    ax[t].imshow(img_A)\n",
    "    ax[d].imshow(img_B)\n",
    "\n",
    "    return t"
   ]
  },
  {
   "cell_type": "code",
   "execution_count": null,
   "metadata": {},
   "outputs": [],
   "source": [
    "import time\n",
    "def show_test_custom(im1, im2):\n",
    "    result, attention_plot = evaluate(f\"../dataset/custom/{im1}.jpg\", f\"../dataset/custom/{im2}.jpg\")\n",
    "    print('Utterance:', ' '.join(result))\n",
    "    img_A = mpimg.imread(f\"../dataset/custom/{im1}.jpg\")\n",
    "    img_B = mpimg.imread(f\"../dataset/custom/{im2}.jpg\")\n",
    "\n",
    "    rand_n = random.uniform(0,1)\n",
    "\n",
    "    if rand_n < 0.5:\n",
    "        t = 0\n",
    "        d = 1\n",
    "    else:\n",
    "        t = 1\n",
    "        d = 0\n",
    "    fig, ax = plt.subplots(1,2)\n",
    "    ax[t].imshow(img_A)\n",
    "    ax[d].imshow(img_B)\n",
    "\n",
    "    return t"
   ]
  },
  {
   "cell_type": "code",
   "execution_count": null,
   "metadata": {
    "tags": []
   },
   "outputs": [],
   "source": [
    "t = show_test(11)"
   ]
  },
  {
   "cell_type": "code",
   "execution_count": null,
   "metadata": {
    "tags": []
   },
   "outputs": [],
   "source": [
    "if t == 0:\n",
    "    print(\"The target is on the left\")\n",
    "else:\n",
    "    print(\"The target is on the right\")"
   ]
  },
  {
   "cell_type": "code",
   "execution_count": null,
   "metadata": {
    "tags": []
   },
   "outputs": [],
   "source": [
    "t = show_test(900)"
   ]
  },
  {
   "cell_type": "code",
   "execution_count": null,
   "metadata": {
    "tags": []
   },
   "outputs": [],
   "source": [
    "if t == 0:\n",
    "    print(\"The target is on the left\")\n",
    "else:\n",
    "    print(\"The target is on the right\")"
   ]
  },
  {
   "cell_type": "code",
   "execution_count": null,
   "metadata": {
    "tags": []
   },
   "outputs": [],
   "source": [
    "t = show_test(88)"
   ]
  },
  {
   "cell_type": "code",
   "execution_count": null,
   "metadata": {
    "tags": []
   },
   "outputs": [],
   "source": [
    "if t == 0:\n",
    "    print(\"The target is on the left\")\n",
    "else:\n",
    "    print(\"The target is on the right\")"
   ]
  },
  {
   "cell_type": "code",
   "execution_count": null,
   "metadata": {
    "tags": []
   },
   "outputs": [],
   "source": [
    "t = show_test(42)"
   ]
  },
  {
   "cell_type": "code",
   "execution_count": null,
   "metadata": {
    "tags": []
   },
   "outputs": [],
   "source": [
    "t = show_test_custom(\"jpiro\",\"dewerpe\")"
   ]
  },
  {
   "cell_type": "code",
   "execution_count": null,
   "metadata": {
    "tags": []
   },
   "outputs": [],
   "source": [
    "if t == 0:\n",
    "    print(\"The target is on the left\")\n",
    "else:\n",
    "    print(\"The target is on the right\")"
   ]
  },
  {
   "cell_type": "code",
   "execution_count": null,
   "metadata": {},
   "outputs": [],
   "source": [
    "gru_encoder = GRU_Encoder(512, 512, vocab_size)\n",
    "encoder_l = CNN_Encoder(512)\n",
    "optimizer_l = tf.keras.optimizers.Adam()\n",
    "loss_object_l = tf.keras.losses.CategoricalCrossentropy()\n",
    "\n",
    "loss_plot_l = []\n",
    "\n",
    "#Load Pre-Trained Listener Model\n",
    "l_checkpoint_path = \"./checkpointslistener/train\"\n",
    "l_ckpt = tf.train.Checkpoint(encoder_l=encoder_l,\n",
    "                             gru_encoder=gru_encoder,\n",
    "                             optimizer_l=optimizer_l)\n",
    "l_ckpt_manager = tf.train.CheckpointManager(l_ckpt, l_checkpoint_path, max_to_keep=30)\n",
    "# l_ckpt.restore(l_ckpt_manager.latest_checkpoint)"
   ]
  },
  {
   "cell_type": "code",
   "execution_count": null,
   "metadata": {},
   "outputs": [],
   "source": [
    "# @tf.function\n",
    "def train_step(m, targ, dist):\n",
    "    loss = 0\n",
    "\n",
    "    # initializing the hidden state for each batch\n",
    "    # because the captions are not related from image to image\n",
    "    hidden = gru_encoder.reset_state(batch_size=targ.shape[0])\n",
    "\n",
    "    with tf.GradientTape() as tape:\n",
    "        #could be a serious problem -- most likely! Exciting\n",
    "        features_t = encoder_l(targ)\n",
    "        features_d = encoder_l(dist)\n",
    "\n",
    "        v = gru_encoder(m, hidden)\n",
    "        \n",
    "        with tape.stop_recording():\n",
    "            rand_n = random.random()\n",
    "\n",
    "            if rand_n > 0.5:\n",
    "                left = features_t\n",
    "                right = features_d\n",
    "                y_t = tf.convert_to_tensor([[1,0]]*targ.shape[0],dtype=tf.float32)\n",
    "            else:\n",
    "                left = features_d\n",
    "                right = features_t\n",
    "                y_t = tf.convert_to_tensor([[0,1]]*targ.shape[0],dtype=tf.float32)\n",
    "    \n",
    "        x = tf.norm(tf.keras.layers.dot([left, v],axes=2,normalize=True),axis=(1,2))\n",
    "        y = tf.norm(tf.keras.layers.dot([right, v],axes=2,normalize=True),axis=(1,2))\n",
    "        x = tf.reshape(x, (x.shape[0],1))\n",
    "        y = tf.reshape(y, (y.shape[0],1))\n",
    "        z = tf.concat([x,y],axis=1)\n",
    "        y_p = tf.nn.softmax(z)\n",
    "        loss = loss_object_l(y_t, y_p)\n",
    "\n",
    "    trainable_variables = encoder_l.trainable_variables + gru_encoder.trainable_variables\n",
    "    \n",
    "    gradients = tape.gradient(loss, trainable_variables)\n",
    "    optimizer_l.apply_gradients(zip(gradients, trainable_variables))\n",
    "\n",
    "    return loss"
   ]
  },
  {
   "cell_type": "code",
   "execution_count": null,
   "metadata": {
    "tags": []
   },
   "outputs": [],
   "source": [
    "EPOCHS = 20\n",
    "\n",
    "for epoch in range(0, EPOCHS):\n",
    "    start = time.time()\n",
    "    total_loss = 0\n",
    "\n",
    "    for (batch, (targ_tensor, dis_tensor, target)) in enumerate(dataset):\n",
    "        target = tf.one_hot(target, vocab_size)\n",
    "        loss = train_step(target, targ_tensor, dis_tensor)\n",
    "        total_loss += loss\n",
    "        \n",
    "        # # if batch % 100 == 0:\n",
    "        #     print ('Epoch {} Batch {} Loss {:.4f}'.format(\n",
    "        #     epoch + 1, batch, loss.numpy()))\n",
    "              \n",
    "    # storing the epoch end loss value to plot later\n",
    "    loss_plot_l.append(total_loss / num_steps)\n",
    "\n",
    "    if epoch % 5 == 0:\n",
    "      ckpt_manager.save()\n",
    "      \n",
    "    print ('Epoch {} Loss {:.6f}'.format(epoch + 1,\n",
    "                                         total_loss/num_steps))\n",
    "    print ('Time taken for 1 epoch {} sec\\n'.format(time.time() - start))"
   ]
  },
  {
   "cell_type": "code",
   "execution_count": null,
   "metadata": {},
   "outputs": [],
   "source": [
    "plt.plot(loss_plot_l)\n",
    "plt.xlabel('Epochs')\n",
    "plt.ylabel('Loss')\n",
    "plt.title('Listener Loss Plot')\n",
    "plt.show()"
   ]
  },
  {
   "cell_type": "code",
   "execution_count": null,
   "metadata": {},
   "outputs": [],
   "source": [
    "def check_understanding(data):\n",
    "    total_right = 0\n",
    "    total_wrong = 0\n",
    "\n",
    "    for (batch, (targ_tensor, dis_tensor, caption)) in enumerate(data):\n",
    "        hidden_s = decoder.reset_state(batch_size=targ_tensor.shape[0])\n",
    "        hidden_l = gru_encoder.reset_state(batch_size=targ_tensor.shape[0])\n",
    "\n",
    "        dec_input = tf.expand_dims([tokenizer.word_index['<start>']] * target.shape[0], 1)\n",
    "\n",
    "        m = dec_input\n",
    "\n",
    "        u = tf.concat([targ_tensor, dis_tensor], -1)\n",
    "\n",
    "        #Encode the image through CNN\n",
    "        features = encoder(u)\n",
    "\n",
    "        #make sure that these are 256+256 = 512 and not 32+32 = 64\n",
    "        for i in range(1,10):\n",
    "            predictions, hidden, _ = decoder(dec_input, features, hidden_s)\n",
    "            \n",
    "            preds = tf.nn.softmax(predictions)\n",
    "            indices = tf.math.argmax(predictions, axis=1)\n",
    "            indices = tf.reshape(tf.cast(indices, tf.int32),(targ_tensor.shape[0],1))\n",
    "            \n",
    "            m = tf.concat([m, indices],1)\n",
    "\n",
    "            dec_input = indices\n",
    "\n",
    "        m = tf.one_hot(m, vocab_size)\n",
    "\n",
    "        features_t = encoder_l(targ_tensor)\n",
    "        features_d = encoder_l(dis_tensor)\n",
    "\n",
    "        rand_n = random.random()\n",
    "\n",
    "        left = features_t\n",
    "        right = features_d\n",
    "\n",
    "        v = gru_encoder(m, hidden_l)\n",
    "\n",
    "        x = tf.norm(tf.keras.layers.dot([left, v],axes=2,normalize=True),axis=(1,2))\n",
    "        y = tf.norm(tf.keras.layers.dot([right, v],axes=2,normalize=True),axis=(1,2))\n",
    "\n",
    "        mask = tf.math.greater(x, y)\n",
    "        total_right += np.sum(mask.numpy())\n",
    "        total_wrong += np.sum(mask.numpy()==False)\n",
    "\n",
    "    total = total_right + total_wrong\n",
    "\n",
    "    acc = total_right / total\n",
    "\n",
    "    return acc, total_right, total_wrong"
   ]
  },
  {
   "cell_type": "code",
   "execution_count": null,
   "metadata": {
    "tags": []
   },
   "outputs": [],
   "source": [
    "acc, t_r, t_w = check_understanding(tqdm(dataset))"
   ]
  },
  {
   "cell_type": "code",
   "execution_count": null,
   "metadata": {
    "tags": []
   },
   "outputs": [],
   "source": [
    "print(acc, t_r, t_w)"
   ]
  },
  {
   "cell_type": "code",
   "execution_count": null,
   "metadata": {},
   "outputs": [],
   "source": []
  }
 ],
 "metadata": {
  "kernelspec": {
   "display_name": "Python 3",
   "language": "python",
   "name": "python3"
  },
  "language_info": {
   "codemirror_mode": {
    "name": "ipython",
    "version": 3
   },
   "file_extension": ".py",
   "mimetype": "text/x-python",
   "name": "python",
   "nbconvert_exporter": "python",
   "pygments_lexer": "ipython3",
   "version": "3.7.9"
  }
 },
 "nbformat": 4,
 "nbformat_minor": 2
}
