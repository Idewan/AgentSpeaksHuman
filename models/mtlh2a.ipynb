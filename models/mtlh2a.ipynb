{
 "cells": [
  {
   "cell_type": "code",
   "execution_count": null,
   "metadata": {},
   "outputs": [],
   "source": [
    "import tensorflow as tf\n",
    "import os\n",
    "import collections\n",
    "import time\n",
    "import random\n",
    "import re\n",
    "import json\n",
    "import numpy as np\n",
    "import matplotlib.pyplot as plt\n",
    "import matplotlib.image as mpimg\n",
    "import pickle\n",
    "import math\n",
    "\n",
    "from sklearn.model_selection import train_test_split\n",
    "from sklearn.utils import shuffle\n",
    "from glob import glob\n",
    "from PIL import Image\n",
    "from tqdm import tqdm\n",
    "\n",
    "#Custom Classes\n",
    "from prep import Preparation\n",
    "from gru_decoder import GRU_Decoder\n",
    "from gru_encoder import GRU_Encoder\n",
    "from cnn_encoder import CNN_Encoder"
   ]
  },
  {
   "cell_type": "code",
   "execution_count": null,
   "metadata": {},
   "outputs": [],
   "source": [
    "prep = Preparation()"
   ]
  },
  {
   "cell_type": "code",
   "execution_count": null,
   "metadata": {},
   "outputs": [],
   "source": [
    "image_model = tf.keras.applications.ResNet50(include_top=False, weights='imagenet')\n",
    "image_input = image_model.input\n",
    "hidden_layer = image_model.layers[-1].output\n",
    "image_features_extract_model = tf.keras.Model(image_input, hidden_layer)"
   ]
  },
  {
   "cell_type": "code",
   "execution_count": null,
   "metadata": {},
   "outputs": [],
   "source": [
    "with open(\"../dataset/best_captions.json\", \"r\") as jf:\n",
    "    data = json.loads(jf.read())\n",
    "    \n",
    "target_data = data['target_paths']\n",
    "distractor_data = data['distractor_paths']\n",
    "caption_data = data['best_captions']"
   ]
  },
  {
   "cell_type": "code",
   "execution_count": null,
   "metadata": {},
   "outputs": [],
   "source": [
    "edited_caption_data = []\n",
    "for i in range(len(caption_data)):\n",
    "    edited_caption_data.append(f'<start> {caption_data[i]} <end>')"
   ]
  },
  {
   "cell_type": "code",
   "execution_count": null,
   "metadata": {},
   "outputs": [],
   "source": [
    "#Split into train, val, and test set.\n",
    "val_slice_index = int(len(target_data)*0.8)\n",
    "test_slice_index = int(len(target_data)*0.9)\n",
    "\n",
    "targ_name_train, targ_name_val, targ_name_test = target_data[:val_slice_index], target_data[val_slice_index:test_slice_index], target_data[test_slice_index:]\n",
    "\n",
    "dis_name_train, dis_name_val, dis_name_test = distractor_data[:val_slice_index], distractor_data[val_slice_index:test_slice_index], distractor_data[test_slice_index:]\n",
    "\n",
    "captions_train, captions_val, captions_test = edited_caption_data[:val_slice_index], edited_caption_data[val_slice_index:test_slice_index], edited_caption_data[test_slice_index:]\n"
   ]
  },
  {
   "cell_type": "code",
   "execution_count": null,
   "metadata": {
    "tags": []
   },
   "outputs": [],
   "source": [
    "img_A = mpimg.imread(f\"../dataset/prep_data/{targ_name_test[0]}.jpg\")\n",
    "img_B = mpimg.imread(f\"../dataset/prep_data/{dis_name_test[0]}.jpg\")\n",
    "print(captions_test[0])\n",
    "# display images\n",
    "fig, ax = plt.subplots(1,2)\n",
    "ax[0].title.set_text(\"Target\")\n",
    "ax[0].imshow(img_A)\n",
    "ax[1].title.set_text(\"Distractor\")\n",
    "ax[1].imshow(img_B)"
   ]
  },
  {
   "cell_type": "code",
   "execution_count": null,
   "metadata": {},
   "outputs": [],
   "source": [
    "#Tokenize the captions\n",
    "top_v = 45\n",
    "tokenizer = tf.keras.preprocessing.text.Tokenizer(num_words=top_v, oov_token=\"<unk>\", filters='!\"#$%&()*+.,-/:;=?@[\\]^_`{|}~ ')\n",
    "tokenizer.fit_on_texts(captions_train)\n",
    "tokenizer.word_index['<pad>'] = 0\n",
    "tokenizer.index_word[0] = '<pad>'\n",
    "train_seqs = tokenizer.texts_to_sequences(captions_train)\n",
    "cap_vector = tf.keras.preprocessing.sequence.pad_sequences(train_seqs, padding='post')\n",
    "max_length = 5"
   ]
  },
  {
   "cell_type": "code",
   "execution_count": null,
   "metadata": {},
   "outputs": [],
   "source": [
    "BATCH_SIZE = 32\n",
    "BUFFER_SIZE = 1000\n",
    "embedding_dim_s = 1024\n",
    "embedding_dim_l = 512\n",
    "units = 512\n",
    "vocab_size = top_v + 1\n",
    "num_steps = len(targ_name_train) // BATCH_SIZE"
   ]
  },
  {
   "cell_type": "code",
   "execution_count": null,
   "metadata": {},
   "outputs": [],
   "source": [
    "dataset = tf.data.Dataset.from_tensor_slices((targ_name_train, dis_name_train, cap_vector))\n",
    "dataset = dataset.map(lambda item1, item2, item3: tf.numpy_function(\n",
    "          prep.map_func_oracle, [item1, item2, item3], [tf.float32, tf.float32, tf.int32]))\n",
    "dataset = dataset.shuffle(BUFFER_SIZE).batch(BATCH_SIZE)"
   ]
  },
  {
   "cell_type": "code",
   "execution_count": null,
   "metadata": {},
   "outputs": [],
   "source": [
    "speaker = GRU_Decoder(embedding_dim_s, units, vocab_size)\n",
    "listener = GRU_Encoder(embedding_dim_l, units, vocab_size)\n",
    "encoder_s = CNN_Encoder(embedding_dim_s)\n",
    "encoder_l = CNN_Encoder(embedding_dim_l)\n",
    "\n",
    "loss_object = tf.keras.losses.CategoricalCrossentropy()\n",
    "\n",
    "optimizer_s = tf.keras.optimizers.Adam(learning_rate=0.001)\n",
    "optimizer_l = tf.keras.optimizers.Adam()\n",
    "\n",
    "loss_plot = []"
   ]
  },
  {
   "cell_type": "code",
   "execution_count": null,
   "metadata": {},
   "outputs": [],
   "source": [
    "checkpoint_path = \"./checkpointsmtlh2a1/train\"\n",
    "ckpt = tf.train.Checkpoint(speaker=speaker,\n",
    "                           listener=listener,\n",
    "                           encoder_s = encoder_s,\n",
    "                           encoder_l = encoder_l,\n",
    "                           optimizer_s = optimizer_s,\n",
    "                           optimizer_l = optimizer_l)\n",
    "ckpt_manager = tf.train.CheckpointManager(ckpt, checkpoint_path, max_to_keep=30)"
   ]
  },
  {
   "cell_type": "code",
   "execution_count": null,
   "metadata": {},
   "outputs": [],
   "source": [
    "def train_step(u, targ, dist, cap):\n",
    "    loss_s = 0  #Structural Loss\n",
    "    loss_f = 0  #Functional Loss\n",
    "    loss_l = 0  #Listener Loss\n",
    "    t_l = 0     #Total Loss = Structural + Functional Loss\n",
    "\n",
    "    hidden_s = speaker.reset_state(batch_size=targ.shape[0])\n",
    "    hidden_l = listener.reset_state(batch_size=targ.shape[0])\n",
    "\n",
    "    decoder_input = tf.expand_dims([tokenizer.word_index['<start>']] * targ.shape[0], 1)\n",
    "    m = decoder_input\n",
    "\n",
    "    with tf.GradientTape(persistent=True) as tape:\n",
    "        #Encode the image through CNN\n",
    "        features = encoder_s(u)\n",
    "\n",
    "        for i in range(1, cap.shape[1]):\n",
    "            predictions, hidden, _ = speaker(decoder_input, features, hidden_s)\n",
    "\n",
    "            pred_probs = tf.nn.softmax(predictions)\n",
    "            log_probs = tf.math.log(pred_probs)\n",
    "\n",
    "            with tape.stop_recording():\n",
    "                col_indices = tf.reshape(cap[:,i], (targ.shape[0],1))\n",
    "                actual_preds = tf.reshape(tf.cast(tf.argmax(pred_probs, axis=1), tf.int32), (targ.shape[0],1))\n",
    "                row_indices = tf.reshape(tf.range(targ.shape[0]),(targ.shape[0],1))\n",
    "                full_indices_s = tf.concat([row_indices, col_indices],axis=1)\n",
    "                full_indices_f = tf.concat([row_indices, actual_preds], axis=1)\n",
    "\n",
    "                entropy = tf.math.multiply(pred_probs, log_probs)\n",
    "                entropy = tf.gather_nd(entropy, full_indices_f)\n",
    "                entropy = tf.reshape(entropy, (targ.shape[0], 1))\n",
    "            \n",
    "            loss_for_s = tf.gather_nd(log_probs, full_indices_s)\n",
    "            loss_for_f = tf.gather_nd(log_probs, full_indices_f)\n",
    "\n",
    "            loss_f += loss_for_f + (0.4 * entropy)\n",
    "            loss_s += loss_for_s\n",
    "\n",
    "            m = tf.concat([m, actual_preds], 1)\n",
    "\n",
    "            decoder_input = tf.expand_dims(cap[:,i], 1)\n",
    "        \n",
    "        m = tf.one_hot(m, vocab_size)\n",
    "\n",
    "        features_t = encoder_l(targ)\n",
    "        features_d = encoder_l(dist)\n",
    "\n",
    "        #Compute loss for listener\n",
    "        v = listener(m, hidden_l)\n",
    "\n",
    "        with tape.stop_recording():\n",
    "            rand_n = random.random()\n",
    "\n",
    "            if rand_n > 0.5:\n",
    "                left = features_t\n",
    "                right = features_d\n",
    "                y_t = tf.convert_to_tensor([[1,0]]*targ.shape[0],dtype=tf.float32)\n",
    "            else:\n",
    "                left = features_d\n",
    "                right = features_t\n",
    "                y_t = tf.convert_to_tensor([[0,1]]*targ.shape[0],dtype=tf.float32)\n",
    "    \n",
    "        x = tf.norm(tf.keras.layers.dot([left, v],axes=2,normalize=True),axis=(1,2))\n",
    "        y = tf.norm(tf.keras.layers.dot([right, v],axes=2,normalize=True),axis=(1,2))\n",
    "        x = tf.reshape(x, (x.shape[0],1))\n",
    "        y = tf.reshape(y, (y.shape[0],1))\n",
    "        z = tf.concat([x,y],axis=1)\n",
    "        y_p = tf.nn.softmax(z)\n",
    "        loss_l = loss_object(y_t, y_p)\n",
    "\n",
    "        with tape.stop_recording():\n",
    "            #rewards compute\n",
    "            mask = tf.math.greater(x, y)\n",
    "            rewards = tf.where(mask, 1, -1)\n",
    "\n",
    "        rewards = tf.cast(rewards, tf.float32)\n",
    "        loss_f = tf.math.multiply(loss_f, rewards)\n",
    "        loss_f = loss_f\n",
    "        t_l = -tf.reduce_mean(loss_f + (0.5 * loss_s))\n",
    "\n",
    "    trainable_vars_s = encoder_s.trainable_variables + speaker.trainable_variables\n",
    "    trainable_vars_l = encoder_l.trainable_variables + listener.trainable_variables\n",
    "\n",
    "    #Gradient (listener)\n",
    "    gradients_s = tape.gradient(t_l, trainable_vars_s)\n",
    "    gradients_l = tape.gradient(loss_l, trainable_vars_l)\n",
    "    #Optimizer (listener)\n",
    "    optimizer_s.apply_gradients(zip(gradients_s, trainable_vars_s))\n",
    "    optimizer_l.apply_gradients(zip(gradients_l, trainable_vars_l))\n",
    "\n",
    "    return t_l, loss_l"
   ]
  },
  {
   "cell_type": "code",
   "execution_count": null,
   "metadata": {},
   "outputs": [],
   "source": [
    "time_step_plot = []\n",
    "time_step_listener = []\n",
    "loss_plot_l = []"
   ]
  },
  {
   "cell_type": "code",
   "execution_count": null,
   "metadata": {
    "tags": []
   },
   "outputs": [],
   "source": [
    "EPOCHS = 0\n",
    "END_EPOCHS = 5\n",
    "for epoch in range(EPOCHS, END_EPOCHS):\n",
    "    start = time.time()\n",
    "    total_loss = 0\n",
    "    total_loss_l = 0\n",
    "\n",
    "    for (batch, (targ_tensor, dis_tensor, target)) in enumerate(dataset):\n",
    "        u = tf.concat([targ_tensor, dis_tensor], -1)\n",
    "\n",
    "        total_l, l_loss = train_step(u, targ_tensor, dis_tensor, target)\n",
    "        total_loss += total_l\n",
    "        total_loss_l += l_loss\n",
    "        \n",
    "        time_step_plot.append(total_l)\n",
    "        time_step_listener.append(l_loss)\n",
    "\n",
    "        if batch % 100 == 0:\n",
    "          print ('Epoch {} Batch {} Multi-Task Loss {:.4f}'.format(\n",
    "            epoch + 1, batch, total_l.numpy()))\n",
    "          print ('Epoch {} Batch {} Listener Loss {:.4f}'.format(\n",
    "            epoch + 1, batch, l_loss.numpy()))\n",
    "              \n",
    "    # storing the epoch end loss value to plot later\n",
    "    loss_plot.append(total_loss / num_steps)\n",
    "    loss_plot_l.append(total_loss_l / num_steps)\n",
    "\n",
    "    ckpt_manager.save()\n",
    "\n",
    "    print ('Epoch {} Multi-Task Loss {:.6f} Listener Loss {:.6f}'.format(epoch + 1,\n",
    "                                         total_loss/num_steps, total_loss_l / num_steps))\n",
    "    print ('Time taken for 1 epoch {} sec\\n'.format(time.time() - start))"
   ]
  },
  {
   "cell_type": "code",
   "execution_count": null,
   "metadata": {},
   "outputs": [],
   "source": [
    "def evaluate(targ, dis):\n",
    "    # attention_plot = np.zeros((max_length, attention_features_shape))\n",
    "\n",
    "    hidden = speaker.reset_state(batch_size=1)\n",
    "\n",
    "    temp_input = tf.expand_dims(prep.load_image(targ)[0], 0)\n",
    "    img_tensor_val = image_features_extract_model(temp_input)\n",
    "    targ_img_tensor_val = tf.reshape(img_tensor_val, (img_tensor_val.shape[0], -1, img_tensor_val.shape[3]))\n",
    "\n",
    "    temp_input = tf.expand_dims(prep.load_image(dis)[0], 0)\n",
    "    img_tensor_val = image_features_extract_model(temp_input)\n",
    "    dis_img_tensor_val = tf.reshape(img_tensor_val, (img_tensor_val.shape[0], -1, img_tensor_val.shape[3]))\n",
    "\n",
    "    u = tf.concat([targ_img_tensor_val, dis_img_tensor_val], -1)\n",
    "\n",
    "    features = encoder_s(u)\n",
    "\n",
    "    dec_input = tf.expand_dims([tokenizer.word_index['<start>']], 1)\n",
    "\n",
    "    result = []\n",
    "\n",
    "    for i in range(max_length):\n",
    "        predictions, hidden, attention_weights = speaker(dec_input, features, hidden)\n",
    "        predicted_id = tf.random.categorical(predictions, 1)[0][0].numpy()\n",
    "        result.append(tokenizer.index_word[predicted_id])\n",
    "\n",
    "        if tokenizer.index_word[predicted_id] == '<end>':\n",
    "            return result\n",
    "        dec_input = tf.expand_dims([predicted_id], 1)\n",
    "\n",
    "    return result"
   ]
  },
  {
   "cell_type": "code",
   "execution_count": null,
   "metadata": {},
   "outputs": [],
   "source": [
    "import time\n",
    "def show_test(num, save):\n",
    "    result = evaluate(f\"../dataset/prep_data/{target_data[num]}.jpg\", f\"../dataset/prep_data/{distractor_data[num]}.jpg\")\n",
    "    if result[len(result)-1] == '<end>':\n",
    "        result = result[:-1]\n",
    "\n",
    "    phrase = f\"Utterance: {' '.join(result)}\"\n",
    "    img_A = mpimg.imread(f\"../dataset/prep_data/{target_data[num]}.jpg\")\n",
    "    img_B = mpimg.imread(f\"../dataset/prep_data/{distractor_data[num]}.jpg\")\n",
    "\n",
    "    rand_n = random.uniform(0,1)\n",
    "\n",
    "    if rand_n < 0.5:\n",
    "        t = 0\n",
    "        d = 1\n",
    "    else:\n",
    "        t = 1\n",
    "        d = 0\n",
    "    fig, ax = plt.subplots(1,2)\n",
    "    ax[t].imshow(img_A)\n",
    "    ax[d].imshow(img_B)\n",
    "    fig.suptitle(phrase)\n",
    "    plt.savefig(f'../human_evaluation/mlt_0.1/{save}.png')\n",
    "    plt.clf()\n",
    "\n",
    "    return t"
   ]
  },
  {
   "cell_type": "code",
   "execution_count": null,
   "metadata": {
    "tags": []
   },
   "outputs": [],
   "source": [
    "t = show_test(900, 1)"
   ]
  },
  {
   "cell_type": "code",
   "execution_count": null,
   "metadata": {
    "tags": []
   },
   "outputs": [],
   "source": [
    "print(t)"
   ]
  },
  {
   "cell_type": "code",
   "execution_count": null,
   "metadata": {},
   "outputs": [],
   "source": [
    "plt.plot(loss_plot, 'b')\n",
    "# plt.plot(time_step_listener, 'g')\n",
    "plt.xlabel('Epoch')\n",
    "plt.ylabel('Loss')\n",
    "plt.title('')\n",
    "plt.show()"
   ]
  },
  {
   "cell_type": "code",
   "execution_count": null,
   "metadata": {},
   "outputs": [],
   "source": [
    "def check_understanding(data):\n",
    "    total_right = 0\n",
    "    total_wrong = 0\n",
    "\n",
    "    for (batch, (targ_tensor, dis_tensor)) in enumerate(data):\n",
    "        hidden_s = speaker.reset_state(batch_size=targ_tensor.shape[0])\n",
    "        hidden_l = listener.reset_state(batch_size=targ_tensor.shape[0])\n",
    "\n",
    "        dec_input = tf.expand_dims([tokenizer.word_index['<start>']] * targ_tensor.shape[0], 1)\n",
    "\n",
    "        m = dec_input\n",
    "\n",
    "        u = tf.concat([targ_tensor, dis_tensor], -1)\n",
    "\n",
    "        #Encode the image through CNN\n",
    "        features = encoder_s(u)\n",
    "\n",
    "        #make sure that these are 256+256 = 512 and not 32+32 = 64\n",
    "        for i in range(1,10):\n",
    "            predictions, hidden, _ = speaker(dec_input, features, hidden_s)\n",
    "            \n",
    "            preds = tf.nn.softmax(predictions)\n",
    "            indices = tf.math.argmax(predictions, axis=1)\n",
    "            indices = tf.reshape(tf.cast(indices, tf.int32),(targ_tensor.shape[0],1))\n",
    "            \n",
    "            m = tf.concat([m, indices],1)\n",
    "\n",
    "            dec_input = indices\n",
    "\n",
    "        m = tf.one_hot(m, vocab_size)\n",
    "\n",
    "        features_t = encoder_l(targ_tensor)\n",
    "        features_d = encoder_l(dis_tensor)\n",
    "\n",
    "        rand_n = random.random()\n",
    "\n",
    "        left = features_t\n",
    "        right = features_d\n",
    "\n",
    "        v = listener(m, hidden_l)\n",
    "\n",
    "        x = tf.norm(tf.keras.layers.dot([left, v],axes=2,normalize=True),axis=(1,2))\n",
    "        y = tf.norm(tf.keras.layers.dot([right, v],axes=2,normalize=True),axis=(1,2))\n",
    "\n",
    "        mask = tf.math.greater(x, y)\n",
    "        total_right += np.sum(mask.numpy())\n",
    "        total_wrong += np.sum(mask.numpy()==False)\n",
    "\n",
    "    total = total_right + total_wrong\n",
    "\n",
    "    acc = total_right / total\n",
    "\n",
    "    return acc, total_right, total_wrong"
   ]
  },
  {
   "cell_type": "code",
   "execution_count": null,
   "metadata": {},
   "outputs": [],
   "source": [
    "def map_func_test(img_name, img_name_2):\n",
    "  img_tensor = np.load('../dataset/prep_data/'+img_name.decode('utf-8')+'.jpg.npy')\n",
    "  img_tensor_2 = np.load('../dataset/prep_data/'+img_name_2.decode('utf-8')+'.jpg.npy')\n",
    "\n",
    "  return img_tensor, img_tensor_2"
   ]
  },
  {
   "cell_type": "code",
   "execution_count": null,
   "metadata": {},
   "outputs": [],
   "source": [
    "testset = tf.data.Dataset.from_tensor_slices((targ_name_test, dis_name_test))\n",
    "testset = testset.map(lambda item1, item2: tf.numpy_function(\n",
    "          map_func_test, [item1, item2], [tf.float32, tf.float32]))\n",
    "\n",
    "testset = testset.shuffle(BUFFER_SIZE).batch(BATCH_SIZE)\n",
    "\n",
    "with open(\"../dataset/easy_captions.json\", \"r\") as jfec:\n",
    "    easy_data = json.loads(jfec.read())\n",
    "\n",
    "target_easy_data = easy_data['target_paths']\n",
    "distractor_easy_data = easy_data['distractor_paths']\n",
    "\n",
    "val_slice_index = int(len(target_easy_data)*0.8)\n",
    "test_slice_index = int(len(target_easy_data)*0.9)\n",
    "\n",
    "targ_easy_test = target_easy_data[test_slice_index:]\n",
    "\n",
    "dis_easy_test = distractor_easy_data[test_slice_index:]\n",
    "\n",
    "testset_easy = tf.data.Dataset.from_tensor_slices((targ_easy_test, dis_easy_test))\n",
    "testset_easy = testset_easy.map(lambda item1, item2: tf.numpy_function(\n",
    "          map_func_test, [item1, item2], [tf.float32, tf.float32]))\n",
    "\n",
    "testset_easy = testset_easy.shuffle(BUFFER_SIZE).batch(BATCH_SIZE)"
   ]
  },
  {
   "cell_type": "code",
   "execution_count": null,
   "metadata": {},
   "outputs": [],
   "source": [
    "acc, tot_r, tot_w = check_understanding(testset)"
   ]
  },
  {
   "cell_type": "code",
   "execution_count": null,
   "metadata": {
    "tags": []
   },
   "outputs": [],
   "source": [
    "print(\"Test Set Difficult\")\n",
    "print(acc, tot_r, tot_w)"
   ]
  },
  {
   "cell_type": "code",
   "execution_count": null,
   "metadata": {
    "tags": []
   },
   "outputs": [],
   "source": [
    "acc, tot_r, tot_w = check_understanding(testset_easy)\n",
    "print(\"Test Set Easy\")\n",
    "print(acc, tot_r, tot_w)"
   ]
  },
  {
   "cell_type": "code",
   "execution_count": null,
   "metadata": {
    "tags": []
   },
   "outputs": [],
   "source": [
    "print(len(target_data))\n",
    "print(len(distractor_data))"
   ]
  },
  {
   "cell_type": "code",
   "execution_count": null,
   "metadata": {},
   "outputs": [],
   "source": [
    "with open('../human_evaluation/x.json', 'r') as jf:\n",
    "    X = json.loads(jf.read())\n",
    "# "
   ]
  },
  {
   "cell_type": "code",
   "execution_count": null,
   "metadata": {
    "tags": []
   },
   "outputs": [],
   "source": [
    "Y = np.random.choice(22000, 100)"
   ]
  },
  {
   "cell_type": "code",
   "execution_count": null,
   "metadata": {
    "tags": []
   },
   "outputs": [],
   "source": [
    "correct = {}\n",
    "for i in tqdm(range(len(Y))):\n",
    "    curr_ind = Y[i]\n",
    "    t = show_test(curr_ind, i)\n",
    "    correct[i] = t\n",
    "\n",
    "with open(\"../human_evaluation/mlt_0.1/correct.json\", \"w\") as wj:\n",
    "    json.dump(correct, wj)"
   ]
  }
 ],
 "metadata": {
  "kernelspec": {
   "display_name": "Python 3",
   "language": "python",
   "name": "python3"
  },
  "language_info": {
   "codemirror_mode": {
    "name": "ipython",
    "version": 3
   },
   "file_extension": ".py",
   "mimetype": "text/x-python",
   "name": "python",
   "nbconvert_exporter": "python",
   "pygments_lexer": "ipython3",
   "version": "3.7.9"
  }
 },
 "nbformat": 4,
 "nbformat_minor": 2
}
